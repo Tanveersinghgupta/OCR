{
 "cells": [
  {
   "cell_type": "code",
   "execution_count": 91,
   "id": "0f04f51e",
   "metadata": {},
   "outputs": [],
   "source": [
    "from difflib import SequenceMatcher\n",
    "import pandas as pd\n",
    "\n",
    "def main_text(ocr_output):\n",
    "    all_text=''\n",
    "    for i in range(len(ocr_output)):\n",
    "        all_text=all_text+' '+(ocr_output[i]['text'])\n",
    "    return all_text\n",
    "\n",
    "def clean_text(input_text):\n",
    "    cleaned_text = ''.join(char.upper() for char in input_text if char.isalpha() or char.isspace() or char.isnumeric)\n",
    "    return cleaned_text\n",
    "\n",
    "def extract_common_words(search, text):\n",
    "    final = ''\n",
    "    for word in search.split():\n",
    "        if word in text:\n",
    "            final +=word+' '\n",
    "    return final\n",
    "\n",
    "def similarity(a, b):\n",
    "    return SequenceMatcher(None, a, b).ratio()\n",
    "\n",
    "\n",
    "def find_similar_line(long_text, small_line_dict, threshold=0.70):\n",
    "    similar_dict = {key: [] for key in small_line_dict.keys()}\n",
    "\n",
    "    for key, small_line_to_check in small_line_dict.items():\n",
    "        found_substring = None\n",
    "        for start_index in range(len(long_text) - len(small_line_to_check) + 1):\n",
    "            end_index = start_index + len(small_line_to_check)\n",
    "            substring = long_text[start_index:end_index]\n",
    "\n",
    "            if similarity(substring, small_line_to_check) >= threshold:\n",
    "                found_substring = substring\n",
    "                break  # Stop searching once a match is found\n",
    "\n",
    "        if found_substring is not None:\n",
    "            similar_dict[key].append(found_substring)\n",
    "        else:\n",
    "            similar_dict[key].append(None)  # Append None if no match is found after checking all possibilities\n",
    "    # Create a DataFrame from the dictionary\n",
    "    df = pd.DataFrame(similar_dict)\n",
    "\n",
    "    return df\n",
    "\n",
    "def fill_empty_cells_with_dict(dataframe, fill_values):\n",
    "    for column, value in fill_values.items():\n",
    "        if column in dataframe.columns:\n",
    "            dataframe[column] = dataframe[column].fillna(value)\n",
    "    return dataframe"
   ]
  },
  {
   "cell_type": "code",
   "execution_count": 92,
   "id": "70b1d2bb",
   "metadata": {},
   "outputs": [],
   "source": [
    "hdfc_dict = [{'Application ID': '23A03038', 'DO ID': '23A030382', 'Customer Address': 'MURUPPEL VEEDU PADAM PO KALANJOOR KOLLAM DISTRICT', 'Area': 'PATHANAMTHITTA', 'Pin Code': '689694', 'State': 'KERALA'}]\n",
    "\n",
    "dict_2 = [{'text': 'ADDRESS : MELEDOM TOWER, MKK NAIR'}, {'text': 'ROAD, PALARIVATTOM,ERNAKULAM - 682025.PAN'}, {'text': \"SOUTH INDIA'S\"}, {'text': 'MOST TRUSTED'}, {'text': 'my G'}, {'text': 'AAAFZ4615J'}, {'text': 'DIGITAL RETAR'}, {'text': 'BRAND'}, {'text': 'PH : 9645556622'}, {'text': 'MOB : 9645556622'}, {'text': 'MYG CARE : 9645556600'}, {'text': 'EMAIL ID :palarivattom@myg.in'}, {'text': 'CUSTOMER CARE'}, {'text': '9249 001 001'}, {'text': 'MY DEN DIGITAL HUB'}, {'text': 'GSTN : 32AAAFZ4615J1Z8'}, {'text': 'Financier :'}, {'text': 'HDFC BANK LTD'}, {'text': 'Dispatch from :'}, {'text': 'BRANCH'}, {'text': 'Invoice No :'}, {'text': '23-1-PAL-6925'}, {'text': 'Invoice Date :'}, {'text': '25-08-2023'}, {'text': 'Invoice Time :'}, {'text': '10:10 PM'}, {'text': 'State :'}, {'text': 'Kerala (KL)'}, {'text': 'Sales Person :'}, {'text': 'Praveen K R'}, {'text': 'BILLED TO'}, {'text': 'SHIPPED TO'}, {'text': 'CUSTOMER NAME \" :Rinto M George'}, {'text': 'Name'}, {'text': ':Rinto M George'}, {'text': 'ADDRESS'}, {'text': ':MURUPPEL VEEDU PADAM PO KALANJOOR'}, {'text': 'KOLLAM DISTRICT PATHANAMTHITTA 689694'}, {'text': 'Address'}, {'text': ':MURUPPEL VEEDU PADAM PO KALANJOOR'}, {'text': 'KERALA'}, {'text': 'KOLLAM DISTRICT PATHANAMTHITTA 689694'}, {'text': 'KERALA'}, {'text': 'MOB NO'}, {'text': ':9605795162'}, {'text': 'Landmark'}, {'text': ':Not provided'}, {'text': 'STATE'}, {'text': ':Kerala/KL'}, {'text': 'MOB No'}, {'text': ':9605795162'}, {'text': 'State'}, {'text': ':Kerala/KL'}, {'text': 'SLNO'}, {'text': 'ITEM DESCRIPTION/DETAIL'}, {'text': 'HSN/SAC'}, {'text': 'UNIT'}, {'text': 'PRICE'}, {'text': 'QTY'}, {'text': 'GROSS'}, {'text': 'PRICE'}, {'text': 'DISCOUNT'}, {'text': 'BUYBACK'}, {'text': 'GST'}, {'text': 'TAXABLE'}, {'text': '%'}, {'text': 'VALUE'}, {'text': 'APPLE IPHONE 14 128GB'}, {'text': '(MR3X3HN/A) YELLOW APPLE'}, {'text': 'MOBILES'}, {'text': '8517.70.90'}, {'text': '74900.00'}, {'text': '1'}, {'text': '74900.00'}, {'text': '6000.00'}, {'text': '0.00'}, {'text': '18'}, {'text': '58389.83'}, {'text': 'Imei/Batch :- 356891464819731'}, {'text': 'PAPER CARRY BAG GENERAL'}, {'text': '2'}, {'text': 'STATIONERY'}, {'text': '4819.00.00'}, {'text': '0.01'}, {'text': '1'}, {'text': '0.01'}, {'text': '0.00'}, {'text': '0.00'}, {'text': '18'}, {'text': '0.01'}, {'text': 'Imei/Batch :- STY0034810184'}, {'text': 'TOTAL TAXABLE VALUE :'}, {'text': '58389.84'}, {'text': '(+) CGST 9% :'}, {'text': '5255.08'}, {'text': '(+) SGST 9% :'}, {'text': '5255.08'}, {'text': 'AMJG'}, {'text': 'SUB TOTAL :'}, {'text': '68900.00'}, {'text': 'TOTAL :'}, {'text': '68900.00'}, {'text': 'TOTAL(in words) : Sixty-Eight Thousand, Nine Hundred Rupees only'}, {'text': 'MELEBOM TOWER'}, {'text': 'For myG'}, {'text': 'M.K.K. NAIR ROAD, OPP. AXIS BANK'}, {'text': 'PALARIVATTOM- 682025, ERNAKULAM DIST.'}, {'text': 'Down Payment : 11941.0'}, {'text': 'PH: 9645 55 66 22'}, {'text': 'TERMS / CONDITIONS:'}]"
   ]
  },
  {
   "cell_type": "code",
   "execution_count": 97,
   "id": "3e687ad2",
   "metadata": {},
   "outputs": [
    {
     "data": {
      "text/plain": [
       "{'Application ID': '23A03038',\n",
       " 'DO ID': '23A030382',\n",
       " 'Customer Address': 'MURUPPEL VEEDU PADAM PO KALANJOOR KOLLAM DISTRICT',\n",
       " 'Area': 'PATHANAMTHITTA',\n",
       " 'Pin Code': '689694',\n",
       " 'State': 'KERALA'}"
      ]
     },
     "execution_count": 97,
     "metadata": {},
     "output_type": "execute_result"
    }
   ],
   "source": [
    "hdfc_dict[0]"
   ]
  },
  {
   "cell_type": "code",
   "execution_count": 98,
   "id": "5db2470e",
   "metadata": {},
   "outputs": [
    {
     "data": {
      "text/plain": [
       "' ADDRESS : MELEDOM TOWER, MKK NAIR ROAD, PALARIVATTOM,ERNAKULAM - 682025.PAN SOUTH INDIA\\'S MOST TRUSTED my G AAAFZ4615J DIGITAL RETAR BRAND PH : 9645556622 MOB : 9645556622 MYG CARE : 9645556600 EMAIL ID :palarivattom@myg.in CUSTOMER CARE 9249 001 001 MY DEN DIGITAL HUB GSTN : 32AAAFZ4615J1Z8 Financier : HDFC BANK LTD Dispatch from : BRANCH Invoice No : 23-1-PAL-6925 Invoice Date : 25-08-2023 Invoice Time : 10:10 PM State : Kerala (KL) Sales Person : Praveen K R BILLED TO SHIPPED TO CUSTOMER NAME \" :Rinto M George Name :Rinto M George ADDRESS :MURUPPEL VEEDU PADAM PO KALANJOOR KOLLAM DISTRICT PATHANAMTHITTA 689694 Address :MURUPPEL VEEDU PADAM PO KALANJOOR KERALA KOLLAM DISTRICT PATHANAMTHITTA 689694 KERALA MOB NO :9605795162 Landmark :Not provided STATE :Kerala/KL MOB No :9605795162 State :Kerala/KL SLNO ITEM DESCRIPTION/DETAIL HSN/SAC UNIT PRICE QTY GROSS PRICE DISCOUNT BUYBACK GST TAXABLE % VALUE APPLE IPHONE 14 128GB (MR3X3HN/A) YELLOW APPLE MOBILES 8517.70.90 74900.00 1 74900.00 6000.00 0.00 18 58389.83 Imei/Batch :- 356891464819731 PAPER CARRY BAG GENERAL 2 STATIONERY 4819.00.00 0.01 1 0.01 0.00 0.00 18 0.01 Imei/Batch :- STY0034810184 TOTAL TAXABLE VALUE : 58389.84 (+) CGST 9% : 5255.08 (+) SGST 9% : 5255.08 AMJG SUB TOTAL : 68900.00 TOTAL : 68900.00 TOTAL(in words) : Sixty-Eight Thousand, Nine Hundred Rupees only MELEBOM TOWER For myG M.K.K. NAIR ROAD, OPP. AXIS BANK PALARIVATTOM- 682025, ERNAKULAM DIST. Down Payment : 11941.0 PH: 9645 55 66 22 TERMS / CONDITIONS:'"
      ]
     },
     "execution_count": 98,
     "metadata": {},
     "output_type": "execute_result"
    }
   ],
   "source": [
    "all_text"
   ]
  },
  {
   "cell_type": "code",
   "execution_count": 114,
   "id": "01aea0ca",
   "metadata": {
    "scrolled": false
   },
   "outputs": [],
   "source": [
    "all_text=main_text(dict_2)\n",
    "address=extract_common_words(hdfc_dict[0]['Customer Address'],main_text(dict_2))\n",
    "pincode=extract_common_words(hdfc_dict[0]['Pin Code'],all_text)\n",
    "pd.set_option('display.max_rows', None)\n",
    "pd.set_option('display.max_columns', None)\n",
    "pd.set_option('display.max_colwidth', None)\n",
    "\n",
    "df=find_similar_line(address,hdfc_dict[0])\n",
    "df['Pin Code']=pincode\n",
    "do_id=extract_common_words(hdfc_dict[0]['DO ID'],all_text)\n",
    "Application_ID=hdfc_dict[0]['Application ID']\n",
    "application=extract_common_words(hdfc_dict[0]['Application ID'],all_text)\n",
    "area=extract_common_words(hdfc_dict[0]['Area'],all_text)\n",
    "df['Area']=area\n",
    "state=extract_common_words(hdfc_dict[0]['State'],all_text)\n",
    "df['State']=state\n",
    "\n"
   ]
  },
  {
   "cell_type": "code",
   "execution_count": 148,
   "id": "67f9f4ad",
   "metadata": {},
   "outputs": [],
   "source": [
    "output = pd.DataFrame(columns=['Application_id', 'Do_id','Mismatch_field','Reason'])\n",
    "for column in df.columns:\n",
    "    if df[column].isnull().any():\n",
    "        output = output.append({'Application_id': hdfc_dict[0]['Application ID'],\n",
    "                                'Do_id': hdfc_dict[0]['DO ID'],\n",
    "                                'Mismatch_field': column,\n",
    "                                'Reason': f\"FTNR:- '{column}' Mismatch/Not found\"}, \n",
    "                               ignore_index=True)\n"
   ]
  },
  {
   "cell_type": "code",
   "execution_count": 149,
   "id": "6f9e3099",
   "metadata": {},
   "outputs": [],
   "source": [
    "# print(output)"
   ]
  },
  {
   "cell_type": "code",
   "execution_count": 173,
   "id": "20a7ba03",
   "metadata": {},
   "outputs": [],
   "source": [
    "output = df.pivot_table(index=['Application_id', 'Do_id'], columns='Mismatch_field', values='Reason', aggfunc='first').reset_index()\n",
    "output.index.name = None"
   ]
  },
  {
   "cell_type": "code",
   "execution_count": 183,
   "id": "bce1a0b4",
   "metadata": {},
   "outputs": [
    {
     "data": {
      "text/html": [
       "<div>\n",
       "<style scoped>\n",
       "    .dataframe tbody tr th:only-of-type {\n",
       "        vertical-align: middle;\n",
       "    }\n",
       "\n",
       "    .dataframe tbody tr th {\n",
       "        vertical-align: top;\n",
       "    }\n",
       "\n",
       "    .dataframe thead th {\n",
       "        text-align: right;\n",
       "    }\n",
       "</style>\n",
       "<table border=\"1\" class=\"dataframe\">\n",
       "  <thead>\n",
       "    <tr style=\"text-align: right;\">\n",
       "      <th>Mismatch_field</th>\n",
       "      <th>Application_id</th>\n",
       "      <th>Do_id</th>\n",
       "      <th>Application ID</th>\n",
       "      <th>DO ID</th>\n",
       "    </tr>\n",
       "  </thead>\n",
       "  <tbody>\n",
       "    <tr>\n",
       "      <th>0</th>\n",
       "      <td>23A03038</td>\n",
       "      <td>23A030382</td>\n",
       "      <td>FTNR:- 'Application ID' Mismatch/Not found</td>\n",
       "      <td>FTNR:- 'DO ID' Mismatch/Not found</td>\n",
       "    </tr>\n",
       "  </tbody>\n",
       "</table>\n",
       "</div>"
      ],
      "text/plain": [
       "Mismatch_field Application_id      Do_id  \\\n",
       "0                    23A03038  23A030382   \n",
       "\n",
       "Mismatch_field                              Application ID  \\\n",
       "0               FTNR:- 'Application ID' Mismatch/Not found   \n",
       "\n",
       "Mismatch_field                              DO ID  \n",
       "0               FTNR:- 'DO ID' Mismatch/Not found  "
      ]
     },
     "execution_count": 183,
     "metadata": {},
     "output_type": "execute_result"
    }
   ],
   "source": [
    "output.iloc[:, 0:]"
   ]
  }
 ],
 "metadata": {
  "kernelspec": {
   "display_name": "Python 3 (ipykernel)",
   "language": "python",
   "name": "python3"
  },
  "language_info": {
   "codemirror_mode": {
    "name": "ipython",
    "version": 3
   },
   "file_extension": ".py",
   "mimetype": "text/x-python",
   "name": "python",
   "nbconvert_exporter": "python",
   "pygments_lexer": "ipython3",
   "version": "3.10.9"
  }
 },
 "nbformat": 4,
 "nbformat_minor": 5
}
